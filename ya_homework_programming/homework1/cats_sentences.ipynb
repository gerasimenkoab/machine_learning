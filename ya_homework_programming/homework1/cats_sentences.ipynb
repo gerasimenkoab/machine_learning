{
 "cells": [
  {
   "cell_type": "markdown",
   "metadata": {},
   "source": [
    "# Задание про предложения о котах."
   ]
  },
  {
   "cell_type": "code",
   "execution_count": 27,
   "metadata": {},
   "outputs": [
    {
     "name": "stdout",
     "output_type": "stream",
     "text": [
      "in comparison to dogs, cats have not undergone major changes during the domestication process.\n",
      "\n",
      "['in', 'comparison', 'to', 'dogs', 'cats', 'have', 'not', 'undergone', 'major', 'changes', 'during', 'the', 'domestication', 'process']\n",
      "as cat simply catenates streams of bytes, it can be also used to concatenate binary files, where it will just concatenate sequence of bytes.\n",
      "\n",
      "['as', 'cat', 'simply', 'catenates', 'streams', 'of', 'bytes', 'it', 'can', 'be', 'also', 'used', 'to', 'concatenate', 'binary', 'files', 'where', 'it', 'will', 'just', 'concatenate', 'sequence', 'of', 'bytes']\n",
      "{'concatenate': None, 'be': None, 'used': None, 'just': None, 'to': None, 'of': None, 'will': None, 'sequence': None, 'bytes': None, 'it': None, 'cat': None, 'binary': None, 'also': None, 'as': None, 'streams': None, 'can': None, 'simply': None, 'where': None, 'files': None, 'catenates': None}\n"
     ]
    }
   ],
   "source": [
    "import re\n",
    "f=open('sentences.txt','r')\n",
    "a = (f.readline()).lower()   \n",
    "print(a)\n",
    "a_split = filter(lambda x: x!='',re.split('[^a-z]', a))\n",
    "print(a_split)\n",
    "di = dict.fromkeys(a_split)\n",
    "a1 = (f.readline()).lower()   \n",
    "print(a1)\n",
    "a_split1 = filter(lambda x: x!='',re.split('[^a-z]', a1))\n",
    "print(a_split1)\n",
    "di = dict.fromkeys(a_split1)\n",
    "print(di)\n",
    "f.close()"
   ]
  },
  {
   "cell_type": "code",
   "execution_count": 76,
   "metadata": {},
   "outputs": [
    {
     "name": "stdout",
     "output_type": "stream",
     "text": [
      "['in', 'comparison', 'to', 'dogs', 'cats', 'have', 'not', 'undergone', 'major', 'changes', 'during', 'the', 'domestication', 'process']\n",
      "['as', 'cat', 'simply', 'catenates', 'streams', 'of', 'bytes', 'it', 'can', 'be', 'also', 'used', 'to', 'concatenate', 'binary', 'files', 'where', 'it', 'will', 'just', 'concatenate', 'sequence', 'of', 'bytes']\n",
      "['a', 'common', 'interactive', 'use', 'of', 'cat', 'for', 'a', 'single', 'file', 'is', 'to', 'output', 'the', 'content', 'of', 'a', 'file', 'to', 'standard', 'output']\n",
      "['cats', 'can', 'hear', 'sounds', 'too', 'faint', 'or', 'too', 'high', 'in', 'frequency', 'for', 'human', 'ears', 'such', 'as', 'those', 'made', 'by', 'mice', 'and', 'other', 'small', 'animals']\n",
      "['in', 'one', 'people', 'deliberately', 'tamed', 'cats', 'in', 'a', 'process', 'of', 'artificial', 'selection', 'as', 'they', 'were', 'useful', 'predators', 'of', 'vermin']\n",
      "['the', 'domesticated', 'cat', 'and', 'its', 'closest', 'wild', 'ancestor', 'are', 'both', 'diploid', 'organisms', 'that', 'possess', 'chromosomes', 'and', 'roughly', 'genes']\n",
      "['domestic', 'cats', 'are', 'similar', 'in', 'size', 'to', 'the', 'other', 'members', 'of', 'the', 'genus', 'felis', 'typically', 'weighing', 'between', 'and', 'kg', 'and', 'lb']\n",
      "['however', 'if', 'the', 'output', 'is', 'piped', 'or', 'redirected', 'cat', 'is', 'unnecessary']\n",
      "['cat', 'with', 'one', 'named', 'file', 'is', 'safer', 'where', 'human', 'error', 'is', 'a', 'concern', 'one', 'wrong', 'use', 'of', 'the', 'default', 'redirection', 'symbol', 'instead', 'of', 'often', 'adjacent', 'on', 'keyboards', 'may', 'permanently', 'delete', 'the', 'file', 'you', 'were', 'just', 'needing', 'to', 'read']\n",
      "['in', 'terms', 'of', 'legibility', 'a', 'sequence', 'of', 'commands', 'starting', 'with', 'cat', 'and', 'connected', 'by', 'pipes', 'has', 'a', 'clear', 'left', 'to', 'right', 'flow', 'of', 'information']\n",
      "['cat', 'command', 'is', 'one', 'of', 'the', 'basic', 'commands', 'that', 'you', 'learned', 'when', 'you', 'started', 'in', 'the', 'unix', 'linux', 'world']\n",
      "['using', 'cat', 'command', 'the', 'lines', 'received', 'from', 'stdin', 'can', 'be', 'redirected', 'to', 'a', 'new', 'file', 'using', 'redirection', 'symbols']\n",
      "['when', 'you', 'type', 'simply', 'cat', 'command', 'without', 'any', 'arguments', 'it', 'just', 'receives', 'the', 'stdin', 'content', 'and', 'displays', 'it', 'in', 'the', 'stdout']\n",
      "['leopard', 'was', 'released', 'on', 'october', 'as', 'the', 'successor', 'of', 'tiger', 'version', 'and', 'is', 'available', 'in', 'two', 'editions']\n",
      "['according', 'to', 'apple', 'leopard', 'contains', 'over', 'changes', 'and', 'enhancements', 'over', 'its', 'predecessor', 'mac', 'os', 'x', 'tiger']\n",
      "['as', 'of', 'mid', 'some', 'apple', 'computers', 'have', 'firmware', 'factory', 'installed', 'which', 'will', 'no', 'longer', 'allow', 'installation', 'of', 'mac', 'os', 'x', 'leopard']\n",
      "['since', 'apple', 'moved', 'to', 'using', 'intel', 'processors', 'in', 'their', 'computers', 'the', 'osx', 'community', 'has', 'developed', 'and', 'now', 'also', 'allows', 'mac', 'os', 'x', 'tiger', 'and', 'later', 'releases', 'to', 'be', 'installed', 'on', 'non', 'apple', 'x', 'based', 'computers']\n",
      "['os', 'x', 'mountain', 'lion', 'was', 'released', 'on', 'july', 'for', 'purchase', 'and', 'download', 'through', 'apple', 's', 'mac', 'app', 'store', 'as', 'part', 'of', 'a', 'switch', 'to', 'releasing', 'os', 'x', 'versions', 'online', 'and', 'every', 'year']\n",
      "['apple', 'has', 'released', 'a', 'small', 'patch', 'for', 'the', 'three', 'most', 'recent', 'versions', 'of', 'safari', 'running', 'on', 'os', 'x', 'yosemite', 'mavericks', 'and', 'mountain', 'lion']\n",
      "['the', 'mountain', 'lion', 'release', 'marks', 'the', 'second', 'time', 'apple', 'has', 'offered', 'an', 'incremental', 'upgrade', 'rather', 'than', 'releasing', 'a', 'new', 'cat', 'entirely']\n",
      "['mac', 'os', 'x', 'mountain', 'lion', 'installs', 'in', 'place', 'so', 'you', 'won', 't', 'need', 'to', 'create', 'a', 'separate', 'disk', 'or', 'run', 'the', 'installation', 'off', 'an', 'external', 'drive']\n",
      "['the', 'fifth', 'major', 'update', 'to', 'mac', 'os', 'x', 'leopard', 'contains', 'such', 'a', 'mountain', 'of', 'features', 'more', 'than', 'by', 'apple', 's', 'count']\n",
      "{'displays': 0, 'osx': 1, 'selection': 2, 'safari': 3, 'just': 4, 'developed': 5, 'over': 6, 'vermin': 7, 'domestic': 8, 'named': 9, 'installed': 10, 'symbols': 11, 'through': 12, 'human': 13, 'world': 14, 'disk': 15, 'its': 16, 'fifth': 17, 'features': 18, 'tamed': 19, 'upgrade': 20, 'lb': 21, 'drive': 22, 'to': 23, 'won': 24, 'deliberately': 25, 'marks': 26, 'has': 27, 'predecessor': 28, 'non': 29, 'which': 30, 'read': 31, 'october': 32, 'every': 33, 'os': 34, 'they': 35, 'not': 36, 'during': 37, 'now': 38, 'possess': 39, 'intel': 40, 'keyboards': 41, 'bytes': 42, 'unnecessary': 43, 'patch': 44, 'predators': 45, 'small': 46, 'output': 47, 'entirely': 48, 'where': 49, 'ears': 50, 'available': 51, 'on': 52, 'often': 53, 'sequence': 54, 'some': 55, 'lion': 56, 'frequency': 57, 'are': 58, 'year': 59, 'download': 60, 'terms': 61, 'concern': 62, 'error': 63, 'for': 64, 'pipes': 65, 'since': 66, 'factory': 67, 'artificial': 68, 'content': 69, 'version': 70, 'run': 71, 'between': 72, 'new': 73, 'learned': 74, 'three': 75, 'piped': 76, 'common': 77, 'concatenate': 78, 'be': 79, 'weighing': 80, 'genes': 81, 'use': 82, 'standard': 83, 'release': 84, 'diploid': 85, 'members': 86, 'x': 87, 'based': 88, 'safer': 89, 'by': 90, 'both': 91, 'commands': 92, 'installation': 93, 'installs': 94, 'of': 95, 'needing': 96, 'allows': 97, 'according': 98, 'july': 99, 'later': 100, 'mac': 101, 's': 102, 'streams': 103, 'receives': 104, 'successor': 105, 'catenates': 106, 'changes': 107, 'or': 108, 'felis': 109, 'major': 110, 'faint': 111, 'useful': 112, 'apple': 113, 'app': 114, 'community': 115, 'one': 116, 'running': 117, 'unix': 118, 'right': 119, 'simply': 120, 'linux': 121, 'sounds': 122, 'size': 123, 'undergone': 124, 'delete': 125, 'from': 126, 'enhancements': 127, 'second': 128, 'their': 129, 'create': 130, 'people': 131, 'two': 132, 't': 133, 'redirection': 134, 'however': 135, 'cats': 136, 'too': 137, 'basic': 138, 'permanently': 139, 'type': 140, 'dogs': 141, 'store': 142, 'more': 143, 'files': 144, 'releases': 145, 'that': 146, 'started': 147, 'contains': 148, 'releasing': 149, 'tiger': 150, 'released': 151, 'part': 152, 'hear': 153, 'external': 154, 'editions': 155, 'off': 156, 'mice': 157, 'with': 158, 'than': 159, 'those': 160, 'longer': 161, 'count': 162, 'made': 163, 'animals': 164, 'mavericks': 165, 'versions': 166, 'default': 167, 'was': 168, 'single': 169, 'cat': 170, 'will': 171, 'can': 172, 'were': 173, 'wild': 174, 'similar': 175, 'interactive': 176, 'and': 177, 'mountain': 178, 'computers': 179, 'have': 180, 'stdout': 181, 'process': 182, 'lines': 183, 'is': 184, 'received': 185, 'moved': 186, 'it': 187, 'an': 188, 'high': 189, 'as': 190, 'incremental': 191, 'file': 192, 'in': 193, 'need': 194, 'domesticated': 195, 'any': 196, 'domestication': 197, 'if': 198, 'binary': 199, 'processors': 200, 'no': 201, 'rather': 202, 'legibility': 203, 'separate': 204, 'firmware': 205, 'when': 206, 'mid': 207, 'also': 208, 'other': 209, 'arguments': 210, 'adjacent': 211, 'online': 212, 'instead': 213, 'you': 214, 'ancestor': 215, 'offered': 216, 'used': 217, 'chromosomes': 218, 'closest': 219, 'information': 220, 'may': 221, 'symbol': 222, 'leopard': 223, 'update': 224, 'most': 225, 'wrong': 226, 'connected': 227, 'yosemite': 228, 'such': 229, 'comparison': 230, 'recent': 231, 'a': 232, 'purchase': 233, 'genus': 234, 'kg': 235, 'organisms': 236, 'using': 237, 'starting': 238, 'clear': 239, 'stdin': 240, 'flow': 241, 'roughly': 242, 'so': 243, 'switch': 244, 'without': 245, 'command': 246, 'place': 247, 'allow': 248, 'time': 249, 'redirected': 250, 'the': 251, 'typically': 252, 'left': 253}\n",
      "(22, 254)\n",
      "[[ 0.  0.  0. ...,  1.  0.  0.]\n",
      " [ 0.  0.  0. ...,  0.  0.  0.]\n",
      " [ 0.  0.  0. ...,  1.  0.  0.]\n",
      " ..., \n",
      " [ 0.  0.  0. ...,  2.  0.  0.]\n",
      " [ 0.  0.  0. ...,  1.  0.  0.]\n",
      " [ 0.  0.  0. ...,  1.  0.  0.]]\n",
      "0\n",
      "1\n",
      "2\n",
      "3\n",
      "4\n",
      "5\n",
      "6\n",
      "7\n",
      "8\n",
      "9\n",
      "10\n",
      "11\n",
      "12\n",
      "13\n",
      "14\n",
      "15\n",
      "16\n",
      "17\n",
      "18\n",
      "19\n",
      "20\n",
      "21\n",
      "Dist list:[0.0, 0.95275444087384664, 0.86447381456421235, 0.89517151632780823, 0.77708871496985887, 0.94023856953328033, 0.7327387580875756, 0.92587506833388988, 0.88427248752843102, 0.90550888174769317, 0.83281653622739416, 0.88047713906656067, 0.83964325485254543, 0.87035925528956715, 0.87401184233025764, 0.94427217874246472, 0.84063618542208085, 0.95664450152379399, 0.94427217874246472, 0.88854435748492944, 0.84275727449171223, 0.82503644694405864]\n",
      "1\n",
      "2\n",
      "3\n",
      "4\n",
      "5\n",
      "6\n",
      "7\n",
      "8\n",
      "9\n",
      "10\n",
      "11\n",
      "12\n",
      "13\n",
      "14\n",
      "15\n",
      "16\n",
      "17\n",
      "18\n",
      "19\n",
      "20\n",
      "21\n",
      "\n",
      " Two min distance sentences numbers indices:\n",
      "[0.0, 0.7327387580875756, 0.77708871496985887, 0.82503644694405864, 0.83281653622739416, 0.83964325485254543, 0.84063618542208085, 0.84275727449171223, 0.86447381456421235, 0.87035925528956715, 0.87401184233025764, 0.88047713906656067, 0.88427248752843102, 0.88854435748492944, 0.89517151632780823, 0.90550888174769317, 0.92587506833388988, 0.94023856953328033, 0.94427217874246472, 0.94427217874246472, 0.95275444087384664, 0.95664450152379399]\n",
      "0.732738758088 6\n",
      "0.77708871497 4\n"
     ]
    }
   ],
   "source": [
    "import re\n",
    "import numpy as np\n",
    "import scipy.spatial \n",
    "f=open('sentences.txt','r')\n",
    "all_words_split = []\n",
    "sentence_list = []\n",
    "for line in f:\n",
    "#    sentence_list.append(line)\n",
    "    #splitting and refining the sentence\n",
    "    a_split = filter(lambda x: x!='',re.split('[^a-z]', line.lower()))\n",
    "    print(a_split)\n",
    "    sentence_list.append(a_split)\n",
    "    # adding refined sentence to the sentence list\n",
    "    #sentence_list.append(a_split)\n",
    "    #adding words to word list\n",
    "    for val in a_split:\n",
    "        all_words_split.append(val)\n",
    "f.close()\n",
    "# creating dict from word the list\n",
    "di = dict.fromkeys(all_words_split)\n",
    "# enumerating words in the dict\n",
    "count = 0\n",
    "for key in di:\n",
    "    di[key] = count\n",
    "    count += 1\n",
    "print(di)\n",
    "#print(di)\n",
    "#print(sentence_list)\n",
    "print(len(sentence_list),len(di))\n",
    "wordMatrix = np.zeros((len(sentence_list),len(di)))\n",
    "wordMatrix.shape\n",
    "#for sentence in sentence_list:\n",
    "for i in range(len(sentence_list)):\n",
    "    for di_key in di:\n",
    "        wordMatrix[i][di[di_key]] = sentence_list[i].count(di_key)\n",
    "        \n",
    "print(wordMatrix)\n",
    "\n",
    "#calculating distances\n",
    "dist_list=[]\n",
    "for i in range(0,len(sentence_list)):\n",
    "    print(i)\n",
    "    dist_list.append(scipy.spatial.distance.cosine(wordMatrix[0,:],wordMatrix[i,:]))\n",
    "print('Dist list:' + str(dist_list))\n",
    "for i in range(1,len(dist_list)):\n",
    "    print(i)\n",
    "    \n",
    "print('\\n Two min distance sentences numbers indices:')\n",
    "dist_sorted = sorted(dist_list)\n",
    "print(dist_sorted)\n",
    "n1 = dist_list.index(dist_sorted[1])\n",
    "print(str(dist_sorted[1]) + ' ' + str(n1))\n",
    "n2 = dist_list.index(dist_sorted[2])\n",
    "print(str(dist_sorted[2]) + ' ' + str(n2))\n",
    "f = open('submission-1.txt','w')\n",
    "f.write(str(n1)+' ')\n",
    "f.write(str(n2))\n",
    "f.close()"
   ]
  },
  {
   "cell_type": "markdown",
   "metadata": {},
   "source": [
    "# Задание о приближении функции многочленом"
   ]
  },
  {
   "cell_type": "code",
   "execution_count": 1,
   "metadata": {
    "collapsed": true
   },
   "outputs": [],
   "source": [
    "# Importing libs\n",
    "import numpy as np\n",
    "import scipy.linalg\n",
    "import matplotlib.pyplot as plt\n",
    "from numpy.polynomial.polynomial import polyval"
   ]
  },
  {
   "cell_type": "code",
   "execution_count": 46,
   "metadata": {},
   "outputs": [
    {
     "name": "stdout",
     "output_type": "stream",
     "text": [
      "<type 'numpy.ndarray'>\n",
      "<type 'numpy.ndarray'>\n",
      "[  1.  15.]\n",
      "[ 1 15]\n",
      "[ 3.25221687  0.63522142]\n",
      "[ 3.25221687  0.63522142]\n"
     ]
    },
    {
     "data": {
      "image/png": "[encoded data removed]",
      "text/plain": [
       "<matplotlib.figure.Figure at 0x86dd048>"
      ]
     },
     "metadata": {},
     "output_type": "display_data"
    }
   ],
   "source": [
    "\n",
    "# Define function \n",
    "def foo(x):\n",
    "    f = np.sin(x / 5.0) * np.exp(x / 10.) + 5 * np.exp(-x / 2.)\n",
    "    return f\n",
    "x1 = np.linspace(1, 15, 2)\n",
    "x2 = np.array([1,15])\n",
    "print(type(x1))\n",
    "print(type(x2))\n",
    "yf = foo(x1)\n",
    "print(x1)\n",
    "print(x2)\n",
    "print(yf)\n",
    "print(foo(x2))\n",
    "plt.plot(x,yf)\n",
    "plt.show()"
   ]
  },
  {
   "cell_type": "code",
   "execution_count": 3,
   "metadata": {},
   "outputs": [
    {
     "name": "stdout",
     "output_type": "stream",
     "text": [
      "[[  1.00000000e+00   1.00000000e+00   1.00000000e+00   1.00000000e+00\n",
      "    1.00000000e+00   1.00000000e+00   1.00000000e+00   1.00000000e+00\n",
      "    1.00000000e+00   1.00000000e+00]\n",
      " [  1.00000000e+00   2.00000000e+00   4.00000000e+00   8.00000000e+00\n",
      "    1.60000000e+01   3.20000000e+01   6.40000000e+01   1.28000000e+02\n",
      "    2.56000000e+02   5.12000000e+02]\n",
      " [  1.00000000e+00   3.00000000e+00   9.00000000e+00   2.70000000e+01\n",
      "    8.10000000e+01   2.43000000e+02   7.29000000e+02   2.18700000e+03\n",
      "    6.56100000e+03   1.96830000e+04]\n",
      " [  1.00000000e+00   4.00000000e+00   1.60000000e+01   6.40000000e+01\n",
      "    2.56000000e+02   1.02400000e+03   4.09600000e+03   1.63840000e+04\n",
      "    6.55360000e+04   2.62144000e+05]\n",
      " [  1.00000000e+00   5.00000000e+00   2.50000000e+01   1.25000000e+02\n",
      "    6.25000000e+02   3.12500000e+03   1.56250000e+04   7.81250000e+04\n",
      "    3.90625000e+05   1.95312500e+06]\n",
      " [  1.00000000e+00   6.00000000e+00   3.60000000e+01   2.16000000e+02\n",
      "    1.29600000e+03   7.77600000e+03   4.66560000e+04   2.79936000e+05\n",
      "    1.67961600e+06   1.00776960e+07]\n",
      " [  1.00000000e+00   7.00000000e+00   4.90000000e+01   3.43000000e+02\n",
      "    2.40100000e+03   1.68070000e+04   1.17649000e+05   8.23543000e+05\n",
      "    5.76480100e+06   4.03536070e+07]\n",
      " [  1.00000000e+00   8.00000000e+00   6.40000000e+01   5.12000000e+02\n",
      "    4.09600000e+03   3.27680000e+04   2.62144000e+05   2.09715200e+06\n",
      "    1.67772160e+07   1.34217728e+08]\n",
      " [  1.00000000e+00   9.00000000e+00   8.10000000e+01   7.29000000e+02\n",
      "    6.56100000e+03   5.90490000e+04   5.31441000e+05   4.78296900e+06\n",
      "    4.30467210e+07   3.87420489e+08]\n",
      " [  1.00000000e+00   1.00000000e+01   1.00000000e+02   1.00000000e+03\n",
      "    1.00000000e+04   1.00000000e+05   1.00000000e+06   1.00000000e+07\n",
      "    1.00000000e+08   1.00000000e+09]]\n",
      "[ 2.03806654  2.22881555  1.24131889  1.39403251  1.09040633  1.18097443\n",
      "  1.07702792  1.0911518   1.00753737  2.50541641]\n",
      "[ -1.09215352e+02   2.93403589e+02  -3.06636500e+02   1.71221924e+02\n",
      "  -5.73205462e+01   1.20708309e+01  -1.61249336e+00   1.32616863e-01\n",
      "  -6.12441441e-03   1.21507947e-04]\n",
      "pv:1.24131888958\n"
     ]
    }
   ],
   "source": [
    "# number of points\n",
    "npt = 10\n",
    "# list of points\n",
    "pt = np.array(range(1,11))\n",
    "a=(np.ones((npt,npt))*pt).T\n",
    "for i in range(0,npt):\n",
    "    a[:,i] = np.power(a[:,i],i)\n",
    "b = foo(pt)\n",
    "print(a)\n",
    "print(b)\n",
    "w = scipy.linalg.solve(a,b)\n",
    "print (w)\n",
    "# evaluate polynomial at some X\n",
    "x = 3\n",
    "\n",
    "print(\"pv:\" + str(polyval(x, w)))"
   ]
  },
  {
   "cell_type": "code",
   "execution_count": 55,
   "metadata": {},
   "outputs": [],
   "source": [
    "# list of points\n",
    "#pt = np.array(range(1,11))\n",
    "def apr_poly(pt):\n",
    "    # number of points\n",
    "    npt = len(pt)\n",
    "    a=(np.ones((npt,npt))*pt).T\n",
    "    for i in range(0,npt):\n",
    "        a[:,i] = np.power(a[:,i],i)\n",
    "    b = foo(pt)\n",
    "    print(\"System parameters:\")\n",
    "    print('x vector:' + str(pt))\n",
    "    print('matrix:' + str(a))\n",
    "    print('value vector:' + str(b))\n",
    "    w = scipy.linalg.solve(a,b)\n",
    "    print ('w coefficients:' + str(w))\n",
    "    # evaluate polynomial at some X\n",
    "    x = 1\n",
    "\n",
    "    print(\"point val test:\" + str(polyval(x, w))+ ' ' + str(foo(x)))\n",
    "    #f_out = open('out.txt','w')\n",
    "    #f_out.write(w)\n",
    "    #f_out.close()\n",
    "    np.savetxt('out_w.txt',w,'%.2f',newline = ' ')\n",
    "    return w"
   ]
  },
  {
   "cell_type": "code",
   "execution_count": 56,
   "metadata": {},
   "outputs": [
    {
     "name": "stdout",
     "output_type": "stream",
     "text": [
      "System parameters:\n",
      "x vector:[ 1  4 10 15]\n",
      "matrix:[[  1.00000000e+00   1.00000000e+00   1.00000000e+00   1.00000000e+00]\n",
      " [  1.00000000e+00   4.00000000e+00   1.60000000e+01   6.40000000e+01]\n",
      " [  1.00000000e+00   1.00000000e+01   1.00000000e+02   1.00000000e+03]\n",
      " [  1.00000000e+00   1.50000000e+01   2.25000000e+02   3.37500000e+03]]\n",
      "value vector:[ 3.25221687  1.74684595  2.50541641  0.63522142]\n",
      "w coefficients:[ 4.36264154 -1.29552587  0.19333685 -0.00823565]\n",
      "point val test:3.25221686527 3.25221686527\n",
      "test:\n",
      "[1, 7, 15]\n",
      "[ 3.25221687  1.94263763  0.63522142]\n",
      "[ 3.25221687  2.13543898  0.63522142]\n",
      "[  1.           1.78947368   2.57894737   3.36842105   4.15789474\n",
      "   4.94736842   5.73684211   6.52631579   7.31578947   8.10526316\n",
      "   8.89473684   9.68421053  10.47368421  11.26315789  12.05263158\n",
      "  12.84210526  13.63157895  14.42105263  15.21052632  16.        ]\n",
      "[ 3.25221687  2.61624585  2.16616398  1.87765694  1.72641039  1.68811003\n",
      "  1.73844152  1.85309055  2.00774279  2.17808392  2.33979962  2.46857557\n",
      "  2.54009744  2.53005091  2.41412166  2.16799536  1.76735771  1.18789436\n",
      "  0.405291   -0.60476668]\n",
      "[ 3.25221687  2.46252348  2.01540739  1.80169492  1.74530678  1.79203348\n",
      "  1.90199688  2.04461378  2.19526501  2.33313468  2.43985964  2.4987465\n",
      "  2.49439236  2.4125974   2.24049167  1.96682041  1.58234635  1.0803353\n",
      "  0.45709615 -0.28745171]\n"
     ]
    },
    {
     "data": {
      "image/png": "[encoded data removed]",
      "text/plain": [
       "<matplotlib.figure.Figure at 0x781ab70>"
      ]
     },
     "metadata": {},
     "output_type": "display_data"
    }
   ],
   "source": [
    "wm = apr_poly(np.array([1,4,10,15]))\n",
    "print('test:')\n",
    "print([1,7,15])\n",
    "print(polyval([1,7,15],wm))\n",
    "print(foo(np.array([1,7,15])))\n",
    "x = np.linspace(1, 16, 20)\n",
    "y1 = polyval(x, wm)\n",
    "yf = foo(x)\n",
    "print(x)\n",
    "print(y1)\n",
    "print(yf)\n",
    "plt.plot(x,y1)\n",
    "plt.plot(x,yf)\n",
    "\n",
    "plt.show()"
   ]
  },
  {
   "cell_type": "code",
   "execution_count": 49,
   "metadata": {},
   "outputs": [
    {
     "name": "stdout",
     "output_type": "stream",
     "text": [
      "System parameters:\n",
      "x vector:[ 1  8 15]\n",
      "matrix:[[   1.    1.    1.]\n",
      " [   1.    8.   64.]\n",
      " [   1.   15.  225.]]\n",
      "value vector:[ 3.25221687  2.31617016  0.63522142]\n",
      "w coefficients:[ 3.32512949 -0.06531159 -0.00760104]\n",
      "point val test:3.25221686527 3.25221686527\n"
     ]
    },
    {
     "data": {
      "text/plain": [
       "array([ 3.32512949, -0.06531159, -0.00760104])"
      ]
     },
     "execution_count": 49,
     "metadata": {},
     "output_type": "execute_result"
    }
   ],
   "source": [
    "apr_poly(np.array([1,8,15]))"
   ]
  },
  {
   "cell_type": "code",
   "execution_count": 58,
   "metadata": {},
   "outputs": [
    {
     "name": "stdout",
     "output_type": "stream",
     "text": [
      "[[  1.00000000e+00   1.00000000e+00   1.00000000e+00   1.00000000e+00]\n",
      " [  1.00000000e+00   4.00000000e+00   1.60000000e+01   6.40000000e+01]\n",
      " [  1.00000000e+00   1.00000000e+01   1.00000000e+02   1.00000000e+03]\n",
      " [  1.00000000e+00   1.50000000e+01   2.25000000e+02   3.37500000e+03]]\n",
      "[ 2.03806654  1.39403251  2.50541641  0.38528127]\n",
      "[ 2.71568561 -0.82187472  0.15138575 -0.0071301 ]\n",
      "pv:1.42002056868\n"
     ]
    }
   ],
   "source": [
    "apr_poly(np.array([1,4,10,15]))"
   ]
  },
  {
   "cell_type": "code",
   "execution_count": null,
   "metadata": {
    "collapsed": true
   },
   "outputs": [],
   "source": []
  }
 ],
 "metadata": {
  "kernelspec": {
   "display_name": "Python 2",
   "language": "python",
   "name": "python2"
  },
  "language_info": {
   "codemirror_mode": {
    "name": "ipython",
    "version": 2
   },
   "file_extension": ".py",
   "mimetype": "text/x-python",
   "name": "python",
   "nbconvert_exporter": "python",
   "pygments_lexer": "ipython2",
   "version": "2.7.14"
  }
 },
 "nbformat": 4,
 "nbformat_minor": 2
}
